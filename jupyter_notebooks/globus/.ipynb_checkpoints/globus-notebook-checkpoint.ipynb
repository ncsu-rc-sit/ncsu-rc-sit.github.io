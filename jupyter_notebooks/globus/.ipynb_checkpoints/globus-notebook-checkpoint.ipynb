{
 "cells": [
  {
   "cell_type": "code",
   "execution_count": null,
   "metadata": {},
   "outputs": [],
   "source": []
  },
  {
   "cell_type": "markdown",
   "metadata": {},
   "source": [
    "## Globus CLI"
   ]
  },
  {
   "cell_type": "code",
   "execution_count": 1,
   "metadata": {},
   "outputs": [],
   "source": [
    "from __future__ import print_function # for python 2\n",
    "tutorial_endpoint_1 = \"a7a89f84-dcae-11ea-9ef7-0aba3c43875b\"      # My personal endpoint ck_msi\"\n",
    "tutorial_endpoint_2 = \"90c62273-3c24-4bc6-b963-3f6c9b4f294e\"      # UNCG_computer science\""
   ]
  },
  {
   "cell_type": "code",
   "execution_count": 2,
   "metadata": {},
   "outputs": [],
   "source": [
    "import globus_sdk"
   ]
  },
  {
   "cell_type": "markdown",
   "metadata": {},
   "source": [
    "# Authentication and Transfer Client Configuration"
   ]
  },
  {
   "cell_type": "markdown",
   "metadata": {},
   "source": [
    "The Globus Python SDK makes transfer functionality available via a TransferClient class.\n",
    "\n",
    "We want to configure a TransferClient with an OAuth2 access token, to authenticate its connections with Globus.\n",
    "\n",
    "In order to do this, we must first do a Native App Grant OAuth2 flow, in which we will:\n",
    "\n",
    "1) Log into Globus using a one-time, generated URL <br>\n",
    "2) Consent to allow this Jupyter Notebook to access Globus Transfer on our behalf <br>\n",
    "3) Return to the notebook with an Authorization Code (the result of step 2) <br>\n",
    "4) Exchange the Authorization Code for an Access Token <br>\n",
    "5) Create a TransferClient object using that Access Token as its authorization method"
   ]
  },
  {
   "cell_type": "code",
   "execution_count": 3,
   "metadata": {},
   "outputs": [
    {
     "name": "stdout",
     "output_type": "stream",
     "text": [
      "Login Here:\n",
      "\n",
      "https://auth.globus.org/v2/oauth2/authorize?client_id=c59dcb05-62bf-40e3-900a-60c3935644a6&redirect_uri=https%3A%2F%2Fauth.globus.org%2Fv2%2Fweb%2Fauth-code&scope=openid+profile+email+urn%3Aglobus%3Aauth%3Ascope%3Atransfer.api.globus.org%3Aall&state=_default&response_type=code&code_challenge=jUQ2jgby-UDK6Xi9yPxlim2r3YjQcF26wS1seXF5SdY&code_challenge_method=S256&access_type=online\n",
      "\n",
      "IMPORTANT NOTE: the link above can only be used once!\n",
      "If login or a later step in the flow fails, you must execute this cell again to generate a new link.\n"
     ]
    }
   ],
   "source": [
    "#client id that I registerd a demo app\n",
    "CLIENT_ID = 'c59dcb05-62bf-40e3-900a-60c3935644a6'\n",
    "\n",
    "# create a client object that tracks state as we do this flow\n",
    "native_auth_client = globus_sdk.NativeAppAuthClient(CLIENT_ID)\n",
    "\n",
    "# explicitly start the flow (some clients may support multiple flows)\n",
    "native_auth_client.oauth2_start_flow()\n",
    "print(\"Login Here:\\n\\n{0}\".format(native_auth_client.oauth2_get_authorize_url()))\n",
    "print(\"\\nIMPORTANT NOTE: the link above can only be used once!\")\n",
    "print(\"If login or a later step in the flow fails, you must execute this cell again to generate a new link.\")"
   ]
  },
  {
   "cell_type": "markdown",
   "metadata": {},
   "source": [
    "# Come back with the auth code"
   ]
  },
  {
   "cell_type": "code",
   "execution_count": 4,
   "metadata": {},
   "outputs": [],
   "source": [
    "# add the code that you got from Globus below\n",
    "auth_code = \"mxMDrUsemiR2bL9tlhOtHfRO9X6E9E\"\n",
    "\n",
    "# and exchange it for a response object containing your token(s)\n",
    "token_response = native_auth_client.oauth2_exchange_code_for_tokens(auth_code)\n",
    "\n",
    "# extract the Access Token for Globus Transfer, known as \"transfer.api.globus.org\"\n",
    "transfer_access_token = token_response.by_resource_server['transfer.api.globus.org']['access_token']\n",
    "\n",
    "# wrap the token in an object that implements the globus_sdk.GlobusAuthorizer interface\n",
    "# in this case, an AccessTokenAuthorizer, which takes an access token and produces Bearer Auth headers\n",
    "transfer_authorizer = globus_sdk.AccessTokenAuthorizer(transfer_access_token)\n",
    "\n",
    "# create a TransferClient object which Authorizes its calls using that GlobusAuthorizer\n",
    "tc = globus_sdk.TransferClient(authorizer=transfer_authorizer)"
   ]
  },
  {
   "cell_type": "markdown",
   "metadata": {},
   "source": [
    "### Help \n",
    "Get help on any method"
   ]
  },
  {
   "cell_type": "code",
   "execution_count": 5,
   "metadata": {},
   "outputs": [
    {
     "name": "stdout",
     "output_type": "stream",
     "text": [
      "Help on method get_endpoint in module globus_sdk.transfer.client:\n",
      "\n",
      "get_endpoint(endpoint_id, **params) method of globus_sdk.transfer.client.TransferClient instance\n",
      "    ``GET /endpoint/<endpoint_id>``\n",
      "    \n",
      "    :rtype: :class:`TransferResponse\n",
      "            <globus_sdk.transfer.response.TransferResponse>`\n",
      "    \n",
      "    **Examples**\n",
      "    \n",
      "    >>> tc = globus_sdk.TransferClient(...)\n",
      "    >>> endpoint = tc.get_endpoint(endpoint_id)\n",
      "    >>> print(\"Endpoint name:\",\n",
      "    >>>       endpoint[\"display_name\"] or endpoint[\"canonical_name\"])\n",
      "    \n",
      "    **External Documentation**\n",
      "    \n",
      "    See\n",
      "    `Get Endpoint by ID         <https://docs.globus.org/api/transfer/endpoint/#get_endpoint_by_id>`_\n",
      "    in the REST documentation for details.\n",
      "\n"
     ]
    }
   ],
   "source": [
    "help(tc.get_endpoint)"
   ]
  },
  {
   "cell_type": "markdown",
   "metadata": {},
   "source": [
    "### Using the client"
   ]
  },
  {
   "cell_type": "code",
   "execution_count": 8,
   "metadata": {},
   "outputs": [
    {
     "name": "stdout",
     "output_type": "stream",
     "text": [
      "HTTP Status Code: 200\n",
      "Content Type: application/json\n",
      "Data: {\n",
      "  \"DATA\": [\n",
      "    {\n",
      "      \"DATA_TYPE\": \"server\",\n",
      "      \"hostname\": null,\n",
      "      \"id\": 527861,\n",
      "      \"incoming_data_port_end\": null,\n",
      "      \"incoming_data_port_start\": null,\n",
      "      \"is_connected\": false,\n",
      "      \"is_paused\": false,\n",
      "      \"outgoing_data_port_end\": null,\n",
      "      \"outgoing_data_port_start\": null,\n",
      "      \"port\": null,\n",
      "      \"scheme\": null,\n",
      "      \"subject\": \"/C=US/O=Globus Consortium/OU=Globus Connect Service/CN=a87fe9d0-dcae-11ea-9a69-0eeb4590bae3\",\n",
      "      \"uri\": null\n",
      "    }\n",
      "  ],\n",
      "  \"DATA_TYPE\": \"endpoint\",\n",
      "  \"acl_available\": false,\n",
      "  \"acl_editable\": false,\n",
      "  \"activated\": false,\n",
      "  \"authentication_assurance_timeout\": null,\n",
      "  \"authentication_timeout_mins\": null,\n",
      "  \"canonical_name\": \"u_q23wl3ugzvg3tawguob4iuprdy#a7a89f84-dcae-11ea-9ef7-0aba3c43875b\",\n",
      "  \"contact_email\": null,\n",
      "  \"contact_info\": null,\n",
      "  \"default_directory\": null,\n",
      "  \"department\": null,\n",
      "  \"description\": \"MSI laptop\",\n",
      "  \"disable_verify\": false,\n",
      "  \"display_name\": \"ck_msi\",\n",
      "  \"expire_time\": \"2020-09-26T16:09:28+00:00\",\n",
      "  \"expires_in\": -1,\n",
      "  \"force_encryption\": false,\n",
      "  \"gcp_connected\": true,\n",
      "  \"gcp_paused\": false,\n",
      "  \"gcs_version\": null,\n",
      "  \"globus_connect_setup_key\": null,\n",
      "  \"high_assurance\": false,\n",
      "  \"host_endpoint\": null,\n",
      "  \"host_endpoint_display_name\": null,\n",
      "  \"host_endpoint_id\": null,\n",
      "  \"host_path\": null,\n",
      "  \"https_server\": null,\n",
      "  \"id\": \"a7a89f84-dcae-11ea-9ef7-0aba3c43875b\",\n",
      "  \"in_use\": false,\n",
      "  \"info_link\": null,\n",
      "  \"is_globus_connect\": true,\n",
      "  \"is_go_storage\": false,\n",
      "  \"keywords\": null,\n",
      "  \"local_user_info_available\": null,\n",
      "  \"location\": \"Automatic\",\n",
      "  \"max_concurrency\": 4,\n",
      "  \"max_parallelism\": 4,\n",
      "  \"my_effective_roles\": [\n",
      "    \"administrator\"\n",
      "  ],\n",
      "  \"myproxy_dn\": null,\n",
      "  \"myproxy_server\": \"myproxy.globusonline.org\",\n",
      "  \"name\": \"a7a89f84-dcae-11ea-9ef7-0aba3c43875b\",\n",
      "  \"network_use\": \"normal\",\n",
      "  \"non_functional\": false,\n",
      "  \"oauth_server\": null,\n",
      "  \"organization\": null,\n",
      "  \"owner_id\": \"86b765ee-86cd-4db9-82c6-a383c451f11e\",\n",
      "  \"owner_string\": \"k_challa@uncg.edu\",\n",
      "  \"preferred_concurrency\": 2,\n",
      "  \"preferred_parallelism\": 2,\n",
      "  \"public\": false,\n",
      "  \"s3_owner_activated\": false,\n",
      "  \"s3_url\": null,\n",
      "  \"shareable\": true,\n",
      "  \"sharing_target_endpoint\": null,\n",
      "  \"sharing_target_root_path\": null,\n",
      "  \"storage_type\": null,\n",
      "  \"subscription_id\": null,\n",
      "  \"tlsftp_server\": null,\n",
      "  \"user_message\": null,\n",
      "  \"user_message_link\": null,\n",
      "  \"username\": \"u_q23wl3ugzvg3tawguob4iuprdy\"\n",
      "}\n",
      "Endpoint Display Name: ck_msi\n"
     ]
    }
   ],
   "source": [
    "r = tc.get_endpoint(tutorial_endpoint_1)\n",
    "print(\"HTTP Status Code:\", r.http_status)\n",
    "print(\"Content Type:\", r.content_type)\n",
    "print(\"Data:\", r)\n",
    "print(\"Endpoint Display Name:\", r[\"display_name\"]) # shortcut for r.data[\"display_name\"]"
   ]
  },
  {
   "cell_type": "code",
   "execution_count": 9,
   "metadata": {},
   "outputs": [
    {
     "name": "stdout",
     "output_type": "stream",
     "text": [
      "ck_msi (a7a89f84-dcae-11ea-9ef7-0aba3c43875b)\n",
      "koundinya_challa (979e3598-5fc4-11ea-af52-0201714f6eab)\n"
     ]
    }
   ],
   "source": [
    "r = tc.endpoint_search(filter_scope=\"my-endpoints\")\n",
    "for ep in r:\n",
    "    print(\"{} ({})\".format(ep[\"display_name\"] or ep[\"canonical_name\"], ep[\"id\"]))"
   ]
  },
  {
   "cell_type": "markdown",
   "metadata": {},
   "source": [
    "### Endpoint management"
   ]
  },
  {
   "cell_type": "markdown",
   "metadata": {},
   "source": [
    "#### Endpoint search"
   ]
  },
  {
   "cell_type": "code",
   "execution_count": 11,
   "metadata": {},
   "outputs": [
    {
     "name": "stdout",
     "output_type": "stream",
     "text": [
      "==== Displaying endpoint matches for search: 'UNCG' ===\n",
      "UNCG Globus (377f3fa8-9f3b-11e9-b594-0e56e8fd6d5a)\n",
      "ck_msi (a7a89f84-dcae-11ea-9ef7-0aba3c43875b)\n",
      "Data Mobility Exhibition (44d1c068-ce01-47b4-8b7f-e0a30290540e)\n",
      "gcrNet (b6feb467-5704-47ff-8d59-6d3a1237765d)\n",
      "Jacob Test Collection (e9f467f0-727b-4739-9203-d3905ea63ea2)\n",
      "Jeff's Globus Google Drive (62b98361-b5ca-4cbe-ab0a-68c625a56095)\n",
      "John Williams Google Drive (e4b47c8c-3f49-4d86-b805-ff8bcd83aa95)\n",
      "koundinya_challa (979e3598-5fc4-11ea-af52-0201714f6eab)\n",
      "Rob Gorrell's Google Drive (af865ba6-f7b6-454b-8de3-bc4b7ff1351e)\n",
      "Share Research with Rob (0c09261a-5ba5-11e9-9e6f-0266b1fe9f9e)\n",
      "UNCG Biology Collections (8bf1eeef-b348-4929-bc4c-4a017b43cd27)\n",
      "UNCG Computer Science (90c62273-3c24-4bc6-b963-3f6c9b4f294e)\n",
      "UNCG_GlobusTest_UNC-CH (83bcfc72-caa8-11ea-9a44-0255d23c44ef)\n"
     ]
    }
   ],
   "source": [
    "search_str = \"UNCG\"\n",
    "endpoints = tc.endpoint_search(search_str)\n",
    "print(\"==== Displaying endpoint matches for search: '{}' ===\".format(search_str))\n",
    "for ep in endpoints:\n",
    "    print(\"{} ({})\".format(ep[\"display_name\"] or ep[\"canonical_name\"], ep[\"id\"]))"
   ]
  },
  {
   "cell_type": "markdown",
   "metadata": {},
   "source": [
    "#### Restricting search scope with filters"
   ]
  },
  {
   "cell_type": "code",
   "execution_count": 12,
   "metadata": {},
   "outputs": [
    {
     "name": "stdout",
     "output_type": "stream",
     "text": [
      "koundinya_challa (979e3598-5fc4-11ea-af52-0201714f6eab)\n",
      "UNCG Computer Science (90c62273-3c24-4bc6-b963-3f6c9b4f294e)\n",
      "UNCG_GlobusTest_UNC-CH (83bcfc72-caa8-11ea-9a44-0255d23c44ef)\n"
     ]
    }
   ],
   "source": [
    "search_str = None\n",
    "endpoints = tc.endpoint_search(\n",
    "        filter_fulltext=search_str, filter_scope=\"recently-used\")\n",
    "for ep in endpoints:\n",
    "    print(\"{} ({})\".format(ep[\"display_name\"] or ep[\"canonical_name\"], ep[\"id\"]))"
   ]
  },
  {
   "cell_type": "markdown",
   "metadata": {},
   "source": [
    "#### Endpoint details"
   ]
  },
  {
   "cell_type": "code",
   "execution_count": 13,
   "metadata": {},
   "outputs": [
    {
     "name": "stdout",
     "output_type": "stream",
     "text": [
      "Display name: ck_msi\n",
      "Owner: k_challa@uncg.edu\n",
      "ID: a7a89f84-dcae-11ea-9ef7-0aba3c43875b\n"
     ]
    }
   ],
   "source": [
    "endpoint = tc.get_endpoint(tutorial_endpoint_1)\n",
    "print(\"Display name:\", endpoint[\"display_name\"])\n",
    "print(\"Owner:\", endpoint[\"owner_string\"])\n",
    "print(\"ID:\", endpoint[\"id\"])"
   ]
  },
  {
   "cell_type": "markdown",
   "metadata": {},
   "source": [
    "#### Get a directory listing"
   ]
  },
  {
   "cell_type": "code",
   "execution_count": 14,
   "metadata": {},
   "outputs": [
    {
     "name": "stdout",
     "output_type": "stream",
     "text": [
      "==== Endpoint_ls for endpoint 90c62273-3c24-4bc6-b963-3f6c9b4f294e /uncg_computer-science/kchala-playground/ ====\n",
      "dir: Globus_playground [4096]\n",
      "file: DMZ Network.pptx [1925224]\n",
      "file: DMZ features.PNG [426078]\n",
      "file: DMZ_reading_guidline.docx [5685]\n",
      "file: �Globus  Data Transfer.pptx [1765448]\n",
      "file: Globus_Data_Transfer.pdf [650940]\n",
      "file: IEEE_CST_modified.pdf [29904298]\n",
      "file: Security differences.PNG [348180]\n",
      "file: VM.PNG [184307]\n",
      "file: comp1.PNG [458005]\n",
      "file: comp2.PNG [106933]\n",
      "file: comp3.PNG [617554]\n",
      "file: globus data transfer.docx [787123]\n",
      "file: hireachial net.PNG [228655]\n",
      "file: meeting_saved_chat.txt [3015]\n",
      "file: per.PNG [49019]\n",
      "file: perfSONAR.PNG [153199]\n",
      "file: switching.PNG [159299]\n",
      "file: testfile.txt [37]\n",
      "file: throughput.PNG [13377]\n"
     ]
    }
   ],
   "source": [
    "# help(tc.operation_ls)\n",
    "endpoint_id = tutorial_endpoint_2\n",
    "endpoint_path = \"/uncg_computer-science/kchala-playground/\"\n",
    "r = tc.operation_ls(endpoint_id, path=endpoint_path)\n",
    "print(\"==== Endpoint_ls for endpoint {} {} ====\".format(endpoint_id, endpoint_path))\n",
    "for item in r:\n",
    "    print(\"{}: {} [{}]\".format(item[\"type\"], item[\"name\"], item[\"size\"]))"
   ]
  },
  {
   "cell_type": "markdown",
   "metadata": {},
   "source": [
    "#### Make directory"
   ]
  },
  {
   "cell_type": "code",
   "execution_count": 15,
   "metadata": {},
   "outputs": [
    {
     "name": "stdout",
     "output_type": "stream",
     "text": [
      "The directory was created successfully\n"
     ]
    }
   ],
   "source": [
    "#help(tc.operation_mkdir)\n",
    "try:\n",
    "    endpoint_id = tutorial_endpoint_1\n",
    "    endpoint_path = \"/D/Globus/test_1_tutorial\"\n",
    "    mkdir_result = tc.operation_mkdir(endpoint_id, path=endpoint_path)\n",
    "    print(mkdir_result[\"message\"])\n",
    "except globus_sdk.GlobusAPIError as ex:\n",
    "    print(\"Error code:\", ex.code)\n",
    "    print(\"Error message:\", ex.message)"
   ]
  },
  {
   "cell_type": "markdown",
   "metadata": {},
   "source": [
    "#### Rename"
   ]
  },
  {
   "cell_type": "code",
   "execution_count": 16,
   "metadata": {},
   "outputs": [
    {
     "name": "stdout",
     "output_type": "stream",
     "text": [
      "File or directory renamed successfully\n"
     ]
    }
   ],
   "source": [
    "#help(tc.operation_rename)\n",
    "try:\n",
    "    endpoint_id = tutorial_endpoint_1\n",
    "    r = tc.operation_rename(endpoint_id, oldpath=\"/D/Globus/test_1_tutorial\",\n",
    "                            newpath=\"/D/Globus/test_1_tutorial_renamed\")\n",
    "    print(r[\"message\"])\n",
    "except globus_sdk.GlobusAPIError as ex:\n",
    "    print(\"Error code:\", ex.code)\n",
    "    print(\"Error message:\", ex.message)\n"
   ]
  },
  {
   "cell_type": "markdown",
   "metadata": {},
   "source": [
    "#### Transfer"
   ]
  },
  {
   "cell_type": "code",
   "execution_count": 17,
   "metadata": {},
   "outputs": [
    {
     "name": "stdout",
     "output_type": "stream",
     "text": [
      "Task ID: 9cb93c0a-0463-11eb-8930-0a5521ff3f4b\n"
     ]
    }
   ],
   "source": [
    "# help(tc.submit_transfer)\n",
    "source_endpoint_id = tutorial_endpoint_1\n",
    "source_path = \"/D/Globus/\"\n",
    "\n",
    "dest_endpoint_id = tutorial_endpoint_2\n",
    "dest_path = \"/uncg_computer-science/kchala-playground/\"\n",
    "\n",
    "label = \"My tutorial transfer\"\n",
    "\n",
    "# TransferData() automatically gets a submission_id for once-and-only-once submission\n",
    "tdata = globus_sdk.TransferData(tc, source_endpoint_id,\n",
    "                                dest_endpoint_id,\n",
    "                                label=label)\n",
    "\n",
    "## Recursively transfer source path contents\n",
    "tdata.add_item(source_path, dest_path, recursive=True)\n",
    "\n",
    "## Alternatively, transfer a specific file\n",
    "# tdata.add_item(\"/source/path/file.txt\",\n",
    "#                \"/dest/path/file.txt\"))\n",
    "\n",
    "# Ensure endpoints are activated\n",
    "tc.endpoint_autoactivate(source_endpoint_id)\n",
    "tc.endpoint_autoactivate(dest_endpoint_id)\n",
    "\n",
    "submit_result = tc.submit_transfer(tdata)\n",
    "print(\"Task ID:\", submit_result[\"task_id\"])"
   ]
  },
  {
   "cell_type": "markdown",
   "metadata": {},
   "source": [
    "#### Get Task By ID"
   ]
  },
  {
   "cell_type": "code",
   "execution_count": 19,
   "metadata": {},
   "outputs": [
    {
     "name": "stdout",
     "output_type": "stream",
     "text": [
      "Label: My tutorial transfer\n",
      "Status: SUCCEEDED\n",
      "Transfer: ck_msi -> UNCG Computer Science\n",
      "Bytes transferred: 1371215\n",
      "Files transferred: 3\n",
      "Transfer rate: 316716 bps\n"
     ]
    }
   ],
   "source": [
    "r = tc.get_task(submit_result['task_id'])\n",
    "print (\"Label:\", r[\"label\"])\n",
    "print (\"Status:\", r[\"status\"])\n",
    "print (\"Transfer: {} -> {}\".format(r[\"source_endpoint_display_name\"],\n",
    "                                   r[\"destination_endpoint_display_name\"]))\n",
    "    \n",
    "if r.data[\"status\"] == \"SUCCEEDED\":\n",
    "    print (\"Bytes transferred:\", r[\"bytes_transferred\"])\n",
    "    print (\"Files transferred:\", r[\"files_transferred\"])\n",
    "    print (\"Transfer rate:\", r[\"effective_bytes_per_second\"], \"bps\")"
   ]
  },
  {
   "cell_type": "markdown",
   "metadata": {},
   "source": [
    "#### Check destination endpoint"
   ]
  },
  {
   "cell_type": "code",
   "execution_count": 20,
   "metadata": {},
   "outputs": [
    {
     "name": "stdout",
     "output_type": "stream",
     "text": [
      "==== Endpoint_ls for endpoint 90c62273-3c24-4bc6-b963-3f6c9b4f294e /uncg_computer-science/kchala-playground/ ====\n",
      "dir: Globus_playground [4096]\n",
      "dir: test_1_tutorial_renamed [10]\n",
      "file: DMZ Network.pptx [1925224]\n",
      "file: DMZ features.PNG [426078]\n",
      "file: DMZ_reading_guidline.docx [5685]\n",
      "file: �Globus  Data Transfer.pptx [1765448]\n",
      "file: Globus_Data_Transfer.pdf [650940]\n",
      "file: IEEE_CST_modified.pdf [29904298]\n",
      "file: Longleaf-updated.pptx [823194]\n",
      "file: Security differences.PNG [348180]\n",
      "file: VM.PNG [184307]\n",
      "file: ciscoany connect.PNG [217846]\n",
      "file: comp1.PNG [458005]\n",
      "file: comp2.PNG [106933]\n",
      "file: comp3.PNG [617554]\n",
      "file: globus data transfer.docx [787123]\n",
      "file: hireachial net.PNG [228655]\n",
      "file: meeting_saved_chat.txt [3015]\n",
      "file: mobaxterm.PNG [330175]\n",
      "file: per.PNG [49019]\n",
      "file: perfSONAR.PNG [153199]\n",
      "file: switching.PNG [159299]\n",
      "file: testfile.txt [37]\n",
      "file: throughput.PNG [13377]\n"
     ]
    }
   ],
   "source": [
    "ls_iter = tc.operation_ls(dest_endpoint_id, path=dest_path)\n",
    "print(\"==== Endpoint_ls for endpoint {} {} ====\".format(dest_endpoint_id, dest_path))\n",
    "for item in ls_iter:\n",
    "    print(\"{}: {} [{}]\".format(item[\"type\"], item[\"name\"], item[\"size\"]))"
   ]
  },
  {
   "cell_type": "markdown",
   "metadata": {},
   "source": [
    "#### Get task list"
   ]
  },
  {
   "cell_type": "code",
   "execution_count": 21,
   "metadata": {},
   "outputs": [
    {
     "name": "stdout",
     "output_type": "stream",
     "text": [
      "SUCCEEDED 9cb93c0a-0463-11eb-8930-0a5521ff3f4b TRANSFER ck_msi UNCG Computer Science My tutorial transfer\n",
      "SUCCEEDED f04d89d0-dfe1-11ea-9ef8-0aba3c43875b TRANSFER koundinya_challa UNCG Computer Science None\n",
      "FAILED 3a802ba8-dfe1-11ea-8bbc-029866a337f1 TRANSFER koundinya_challa UNCG Computer Science None\n",
      "SUCCEEDED b12787ba-ddb6-11ea-85a3-0e1702b77d41 TRANSFER koundinya_challa UNCG Computer Science None\n",
      "FAILED 9d6b39e2-ddb6-11ea-85a3-0e1702b77d41 TRANSFER koundinya_challa UNCG Computer Science None\n",
      "SUCCEEDED 866feac6-ddb6-11ea-85a3-0e1702b77d41 DELETE UNCG Computer Science None None\n",
      "FAILED 5ce644f2-ddb6-11ea-85a3-0e1702b77d41 TRANSFER koundinya_challa UNCG Computer Science None\n",
      "SUCCEEDED 23f6449e-ddb6-11ea-85a3-0e1702b77d41 TRANSFER koundinya_challa UNCG Computer Science None\n",
      "FAILED d1979efa-ddb5-11ea-85a3-0e1702b77d41 TRANSFER koundinya_challa UNCG Computer Science None\n",
      "FAILED a9c1c266-ddb5-11ea-85a3-0e1702b77d41 TRANSFER koundinya_challa UNCG Computer Science None\n"
     ]
    }
   ],
   "source": [
    "# help(tc.task_list)\n",
    "r = tc.task_list(num_results=10, filter=\"type:TRANSFER,DELETE\")\n",
    "for i, item in enumerate(r):\n",
    "    print(item['status'],\n",
    "          item['task_id'], \n",
    "          item['type'],\n",
    "          item['source_endpoint_display_name'],\n",
    "          item['destination_endpoint_display_name'],\n",
    "          item['label'])"
   ]
  },
  {
   "cell_type": "markdown",
   "metadata": {},
   "source": [
    "#### Filter task list"
   ]
  },
  {
   "cell_type": "code",
   "execution_count": 22,
   "metadata": {},
   "outputs": [],
   "source": [
    "r = tc.task_list(num_results=10, filter=\"type:TRANSFER,DELETE/status:ACTIVE\")\n",
    "for i, item in enumerate(r):\n",
    "    print(item['status'],\n",
    "          item['task_id'], \n",
    "          item['type'],\n",
    "          item['source_endpoint_display_name'],\n",
    "          item['destination_endpoint_display_name'],\n",
    "          item['label'])"
   ]
  },
  {
   "cell_type": "markdown",
   "metadata": {},
   "source": [
    "#### Cancel task"
   ]
  },
  {
   "cell_type": "code",
   "execution_count": 23,
   "metadata": {},
   "outputs": [
    {
     "name": "stdout",
     "output_type": "stream",
     "text": [
      "TaskComplete: The task completed before the cancel request was processed.\n"
     ]
    }
   ],
   "source": [
    "#help(tc.cancel_task)\n",
    "r = tc.cancel_task(submit_result[\"task_id\"])\n",
    "print (\"{}: {}\".format(r[\"code\"], r[\"message\"]))"
   ]
  },
  {
   "cell_type": "code",
   "execution_count": null,
   "metadata": {},
   "outputs": [],
   "source": []
  }
 ],
 "metadata": {
  "kernelspec": {
   "display_name": "Python 3",
   "language": "python",
   "name": "python3"
  },
  "language_info": {
   "codemirror_mode": {
    "name": "ipython",
    "version": 3
   },
   "file_extension": ".py",
   "mimetype": "text/x-python",
   "name": "python",
   "nbconvert_exporter": "python",
   "pygments_lexer": "ipython3",
   "version": "3.7.8"
  }
 },
 "nbformat": 4,
 "nbformat_minor": 4
}
