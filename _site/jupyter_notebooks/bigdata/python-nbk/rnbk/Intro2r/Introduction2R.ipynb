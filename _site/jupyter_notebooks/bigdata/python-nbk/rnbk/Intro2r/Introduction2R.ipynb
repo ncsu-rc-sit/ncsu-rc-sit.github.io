{
 "cells": [
  {
   "cell_type": "markdown",
   "metadata": {},
   "source": [
    "# R and RStudio\n",
    "\n",
    "\n",
    "<b> First lets learn the difference between R and R studio</b>:\n",
    "\n",
    "R is a programming language used for statistical computing while RStudio uses the R language to develop statistical programs. ... R and RStudio are not separate versions of the same program, and cannot be substituted for one another. R may be used without RStudio, but RStudio may not be used without R.\n",
    "\n",
    "   \n",
    "## Introduction to R\n",
    "\n",
    "We will use R interactive console. This is where you will run all of your code, and can be a useful environment to try out ideas before adding them to an R script file. This console in RStudio is the same as the one you would get if you typed in `R` in your command-line environment.\n",
    "\n",
    "The first thing you will see in the R interactive session is a bunch of information, followed by a “>” and a blinking cursor. In many ways this is similar to the shell environment you learned about during the shell lessons: it operates on the same idea of a “Read, evaluate, print loop”: you type in commands, R tries to execute them, and then returns a result.\n",
    "\n",
    "### Using R as a calculator\n",
    "\n",
    "This might be one of the simplest things in R."
   ]
  },
  {
   "cell_type": "code",
   "execution_count": 1,
   "metadata": {},
   "outputs": [
    {
     "data": {
      "text/html": [
       "101"
      ],
      "text/latex": [
       "101"
      ],
      "text/markdown": [
       "101"
      ],
      "text/plain": [
       "[1] 101"
      ]
     },
     "metadata": {},
     "output_type": "display_data"
    }
   ],
   "source": [
    "1 + 100"
   ]
  },
  {
   "cell_type": "markdown",
   "metadata": {},
   "source": [
    "<mark> Note: </mark>\n",
    "\n",
    "If you’re using R from the command line instead of from within RStudio, you need to use `Ctrl`+`C` instead of `Esc` to cancel the command. This applies to Mac users as well!\n",
    "\n",
    "\"PEMDAS\" is the order of precedence when we are using R."
   ]
  },
  {
   "cell_type": "code",
   "execution_count": 2,
   "metadata": {},
   "outputs": [
    {
     "data": {
      "text/html": [
       "13"
      ],
      "text/latex": [
       "13"
      ],
      "text/markdown": [
       "13"
      ],
      "text/plain": [
       "[1] 13"
      ]
     },
     "metadata": {},
     "output_type": "display_data"
    }
   ],
   "source": [
    "3 + 5 * 2"
   ]
  },
  {
   "cell_type": "code",
   "execution_count": 3,
   "metadata": {},
   "outputs": [
    {
     "data": {
      "text/html": [
       "23"
      ],
      "text/latex": [
       "23"
      ],
      "text/markdown": [
       "23"
      ],
      "text/plain": [
       "[1] 23"
      ]
     },
     "metadata": {},
     "output_type": "display_data"
    },
    {
     "data": {
      "text/html": [
       "23"
      ],
      "text/latex": [
       "23"
      ],
      "text/markdown": [
       "23"
      ],
      "text/plain": [
       "[1] 23"
      ]
     },
     "metadata": {},
     "output_type": "display_data"
    },
    {
     "data": {
      "text/html": [
       "23"
      ],
      "text/latex": [
       "23"
      ],
      "text/markdown": [
       "23"
      ],
      "text/plain": [
       "[1] 23"
      ]
     },
     "metadata": {},
     "output_type": "display_data"
    }
   ],
   "source": [
    "(3 + (5 * (2 ^ 2))) # hard to read\n",
    "3 + 5 * 2 ^ 2       # clear, if you remember the rules\n",
    "3 + 5 * (2 ^ 2)     # if you forget some rules, this might help"
   ]
  },
  {
   "cell_type": "code",
   "execution_count": 4,
   "metadata": {},
   "outputs": [
    {
     "data": {
      "text/html": [
       "2e-04"
      ],
      "text/latex": [
       "2e-04"
      ],
      "text/markdown": [
       "2e-04"
      ],
      "text/plain": [
       "[1] 2e-04"
      ]
     },
     "metadata": {},
     "output_type": "display_data"
    }
   ],
   "source": [
    "# Really small or large numbers get a scientific notation:\n",
    "2/10000"
   ]
  },
  {
   "cell_type": "code",
   "execution_count": 5,
   "metadata": {},
   "outputs": [
    {
     "data": {
      "text/html": [
       "5000"
      ],
      "text/latex": [
       "5000"
      ],
      "text/markdown": [
       "5000"
      ],
      "text/plain": [
       "[1] 5000"
      ]
     },
     "metadata": {},
     "output_type": "display_data"
    }
   ],
   "source": [
    "# You can write numbers in scientific notation too:\n",
    "5e3  # Note the lack of minus here"
   ]
  },
  {
   "cell_type": "markdown",
   "metadata": {},
   "source": [
    "### Mathematical functions\n",
    "\n",
    "R has many built in mathematical functions. To call a function, we can type its name, followed by open and closing parentheses. Anything we type inside the parentheses is called the function’s arguments:"
   ]
  },
  {
   "cell_type": "code",
   "execution_count": 6,
   "metadata": {},
   "outputs": [
    {
     "data": {
      "text/html": [
       "0.841470984807897"
      ],
      "text/latex": [
       "0.841470984807897"
      ],
      "text/markdown": [
       "0.841470984807897"
      ],
      "text/plain": [
       "[1] 0.841471"
      ]
     },
     "metadata": {},
     "output_type": "display_data"
    }
   ],
   "source": [
    "sin(1)  # trigonometry functions"
   ]
  },
  {
   "cell_type": "code",
   "execution_count": 7,
   "metadata": {},
   "outputs": [
    {
     "data": {
      "text/html": [
       "0"
      ],
      "text/latex": [
       "0"
      ],
      "text/markdown": [
       "0"
      ],
      "text/plain": [
       "[1] 0"
      ]
     },
     "metadata": {},
     "output_type": "display_data"
    }
   ],
   "source": [
    "log(1)  # natural logarithm"
   ]
  },
  {
   "cell_type": "code",
   "execution_count": 8,
   "metadata": {},
   "outputs": [
    {
     "data": {
      "text/html": [
       "1"
      ],
      "text/latex": [
       "1"
      ],
      "text/markdown": [
       "1"
      ],
      "text/plain": [
       "[1] 1"
      ]
     },
     "metadata": {},
     "output_type": "display_data"
    }
   ],
   "source": [
    "log10(10) # base-10 logarithm"
   ]
  },
  {
   "cell_type": "code",
   "execution_count": 9,
   "metadata": {},
   "outputs": [
    {
     "data": {
      "text/html": [
       "1.64872127070013"
      ],
      "text/latex": [
       "1.64872127070013"
      ],
      "text/markdown": [
       "1.64872127070013"
      ],
      "text/plain": [
       "[1] 1.648721"
      ]
     },
     "metadata": {},
     "output_type": "display_data"
    }
   ],
   "source": [
    "exp(0.5) # e^(1/2)"
   ]
  },
  {
   "cell_type": "markdown",
   "metadata": {},
   "source": [
    "Don’t worry about trying to remember every function in R. You can look them up on Google, or if you can remember the start of the function’s name, use the tab completion in RStudio.\n",
    "\n",
    "This is one advantage that RStudio has over R on its own, it has auto-completion abilities that allow you to more easily look up functions, their arguments, and the values that they take. Typing a `?` before the name of a command will open the help page for that command.\n",
    "\n",
    "### Comparing things\n",
    "\n",
    "We can also do comparisons in R:"
   ]
  },
  {
   "cell_type": "code",
   "execution_count": 10,
   "metadata": {},
   "outputs": [
    {
     "data": {
      "text/html": [
       "TRUE"
      ],
      "text/latex": [
       "TRUE"
      ],
      "text/markdown": [
       "TRUE"
      ],
      "text/plain": [
       "[1] TRUE"
      ]
     },
     "metadata": {},
     "output_type": "display_data"
    },
    {
     "data": {
      "text/html": [
       "TRUE"
      ],
      "text/latex": [
       "TRUE"
      ],
      "text/markdown": [
       "TRUE"
      ],
      "text/plain": [
       "[1] TRUE"
      ]
     },
     "metadata": {},
     "output_type": "display_data"
    },
    {
     "data": {
      "text/html": [
       "TRUE"
      ],
      "text/latex": [
       "TRUE"
      ],
      "text/markdown": [
       "TRUE"
      ],
      "text/plain": [
       "[1] TRUE"
      ]
     },
     "metadata": {},
     "output_type": "display_data"
    },
    {
     "data": {
      "text/html": [
       "TRUE"
      ],
      "text/latex": [
       "TRUE"
      ],
      "text/markdown": [
       "TRUE"
      ],
      "text/plain": [
       "[1] TRUE"
      ]
     },
     "metadata": {},
     "output_type": "display_data"
    },
    {
     "data": {
      "text/html": [
       "TRUE"
      ],
      "text/latex": [
       "TRUE"
      ],
      "text/markdown": [
       "TRUE"
      ],
      "text/plain": [
       "[1] TRUE"
      ]
     },
     "metadata": {},
     "output_type": "display_data"
    },
    {
     "data": {
      "text/html": [
       "TRUE"
      ],
      "text/latex": [
       "TRUE"
      ],
      "text/markdown": [
       "TRUE"
      ],
      "text/plain": [
       "[1] TRUE"
      ]
     },
     "metadata": {},
     "output_type": "display_data"
    }
   ],
   "source": [
    "1 == 1  # equality (note two equals signs, read as \"is equal to\")\n",
    "1 != 2  # inequality (read as \"is not equal to\")\n",
    "1 < 2  # less than\n",
    "1 <= 1  # less than or equal to\n",
    "1 > 0  # greater than\n",
    "1 >= -9 # greater than or equal to"
   ]
  },
  {
   "cell_type": "markdown",
   "metadata": {},
   "source": [
    "### Variables and assignment\n",
    "\n",
    "We can store values in variables using the assignment operator `<-`, like this:"
   ]
  },
  {
   "cell_type": "code",
   "execution_count": 11,
   "metadata": {},
   "outputs": [],
   "source": [
    "x <- 1/40"
   ]
  },
  {
   "cell_type": "markdown",
   "metadata": {},
   "source": [
    "Notice that assignment does not print a value. Instead, we stored it for later in something called a <b>variable</b>. `x` now contains the value `0.025`:"
   ]
  },
  {
   "cell_type": "code",
   "execution_count": 12,
   "metadata": {},
   "outputs": [
    {
     "data": {
      "text/html": [
       "0.025"
      ],
      "text/latex": [
       "0.025"
      ],
      "text/markdown": [
       "0.025"
      ],
      "text/plain": [
       "[1] 0.025"
      ]
     },
     "metadata": {},
     "output_type": "display_data"
    },
    {
     "data": {
      "text/html": [
       "-3.68887945411394"
      ],
      "text/latex": [
       "-3.68887945411394"
      ],
      "text/markdown": [
       "-3.68887945411394"
      ],
      "text/plain": [
       "[1] -3.688879"
      ]
     },
     "metadata": {},
     "output_type": "display_data"
    }
   ],
   "source": [
    "x\n",
    "log(x)"
   ]
  },
  {
   "cell_type": "code",
   "execution_count": 13,
   "metadata": {},
   "outputs": [],
   "source": [
    "# Notice also that variables can be reassigned:\n",
    "x <- 100"
   ]
  },
  {
   "cell_type": "markdown",
   "metadata": {},
   "source": [
    "`x` used to contain the value `0.025` and now it has the value `100`.\n",
    "\n",
    "Assignment values can contain the variable being assigned to:"
   ]
  },
  {
   "cell_type": "code",
   "execution_count": 14,
   "metadata": {},
   "outputs": [],
   "source": [
    "x <- x + 1 #notice how RStudio updates its description of x on the top right tab\n",
    "y <- x * 2"
   ]
  },
  {
   "cell_type": "markdown",
   "metadata": {},
   "source": [
    "The right hand side of the assignment can be any valid R expression. The right hand side is fully evaluated before the assignment occurs.\n",
    "\n",
    "Variable names can contain letters, numbers, underscores and periods but no spaces. They must start with a letter or a period followed by a letter (they cannot start with a number nor an underscore). Variables begining with a period are hidden variables. Different people use different conventions for long variable names, these include\n",
    "\n",
    "+ periods.between.words\n",
    "+ underscores_between_words\n",
    "+ camelCaseToSeparateWords\n",
    "What you use is up to you, but be <b>consistent</b>.\n",
    "\n",
    "It is also possible to use the `=` operator for assignment:"
   ]
  },
  {
   "cell_type": "code",
   "execution_count": 15,
   "metadata": {},
   "outputs": [],
   "source": [
    "x = 1/40"
   ]
  },
  {
   "cell_type": "markdown",
   "metadata": {},
   "source": [
    "But this is much less common among R users. The most important thing is to be consistent with the operator you use. There are occasionally places where it is less confusing to use `<-` than `=`, and it is the most common symbol used in the community. So the recommendation is to use `<-`.\n",
    "\n",
    "# Seeking Help\n",
    "\n",
    "### Reading Help files\n",
    "\n",
    "R, and every package, provide help files for functions. The general syntax to search for help on any function, “function_name”, from a specific function that is in a package loaded into your namespace (your interactive R session):\n",
    "\n",
    "```python\n",
    "?function_name\n",
    "help(function_name)\n",
    "```\n",
    "\n",
    "This will load up a help page in RStudio (or as plain text in R by itself).\n",
    "\n",
    "Each help page is broken down into sections:\n",
    "\n",
    "+ Description: An extended description of what the function does.\n",
    "+ Usage: The arguments of the function and their default values.\n",
    "+ Arguments: An explanation of the data each argument is expecting.\n",
    "+ Details: Any important details to be aware of.\n",
    "+ Value: The data the function returns.\n",
    "+ See Also: Any related functions you might find useful.\n",
    "+ Examples: Some examples for how to use the function.\n",
    "\n",
    "Different functions might have different sections, but these are the main ones you should be aware of.\n",
    "\n",
    "### Special Operators\n",
    "\n",
    "To seek help on special operators, use quotes:\n",
    "\n",
    "```python\n",
    "?\"<-\"\n",
    "```\n",
    "\n",
    "### Getting help on packages\n",
    "\n",
    "Many packages come with “vignettes”: tutorials and extended example documentation. Without any arguments, `vignette()` will list all vignettes for all installed packages; `vignette(package=\"package-name\")` will list all available vignettes for `package-name`, and `vignette(\"vignette-name\")` will open the specified vignette.\n",
    "\n",
    "If a package doesn’t have any vignettes, you can usually find help by typing `help(\"package-name\")`.\n",
    "\n",
    "### When you kind of remember the function\n",
    "\n",
    "If you’re not sure what package a function is in, or how it’s specifically spelled you can do a fuzzy search:\n",
    "\n",
    "```python\n",
    "??function_name\n",
    "```\n",
    "\n",
    "### When your code doesn’t work: seeking help from your peers\n",
    "\n",
    "If you’re having trouble using a function, 9 times out of 10, the answers you are seeking have already been answered on Stack Overflow. You can search using the `[r]` tag.\n",
    "\n",
    "# Data Structures\n",
    "\n",
    "One of R’s most powerful features is its ability to deal with tabular data - such as you may already have in a spreadsheet or a CSV file.\n",
    "Let’s start by making a toy dataset in your `r_data/ directory`, called `feline-data.csv`:"
   ]
  },
  {
   "cell_type": "code",
   "execution_count": 16,
   "metadata": {},
   "outputs": [],
   "source": [
    "cats <- data.frame(coat = c(\"calico\", \"black\", \"tabby\"),\n",
    "                    weight = c(2.1, 5.0, 3.2),\n",
    "                    likes_string = c(1, 0, 1))\n",
    "write.csv(x = cats, file = \"r_data/feline-data.csv\", row.names = FALSE)"
   ]
  },
  {
   "cell_type": "markdown",
   "metadata": {},
   "source": [
    "The contents of the new file, `feline-data.csv`:"
   ]
  },
  {
   "cell_type": "code",
   "execution_count": 17,
   "metadata": {},
   "outputs": [
    {
     "data": {
      "text/html": [
       "<table>\n",
       "<caption>A data.frame: 3 × 3</caption>\n",
       "<thead>\n",
       "\t<tr><th scope=col>coat</th><th scope=col>weight</th><th scope=col>likes_string</th></tr>\n",
       "\t<tr><th scope=col>&lt;chr&gt;</th><th scope=col>&lt;dbl&gt;</th><th scope=col>&lt;int&gt;</th></tr>\n",
       "</thead>\n",
       "<tbody>\n",
       "\t<tr><td>calico</td><td>2.1</td><td>1</td></tr>\n",
       "\t<tr><td>black </td><td>5.0</td><td>0</td></tr>\n",
       "\t<tr><td>tabby </td><td>3.2</td><td>1</td></tr>\n",
       "</tbody>\n",
       "</table>\n"
      ],
      "text/latex": [
       "A data.frame: 3 × 3\n",
       "\\begin{tabular}{lll}\n",
       " coat & weight & likes\\_string\\\\\n",
       " <chr> & <dbl> & <int>\\\\\n",
       "\\hline\n",
       "\t calico & 2.1 & 1\\\\\n",
       "\t black  & 5.0 & 0\\\\\n",
       "\t tabby  & 3.2 & 1\\\\\n",
       "\\end{tabular}\n"
      ],
      "text/markdown": [
       "\n",
       "A data.frame: 3 × 3\n",
       "\n",
       "| coat &lt;chr&gt; | weight &lt;dbl&gt; | likes_string &lt;int&gt; |\n",
       "|---|---|---|\n",
       "| calico | 2.1 | 1 |\n",
       "| black  | 5.0 | 0 |\n",
       "| tabby  | 3.2 | 1 |\n",
       "\n"
      ],
      "text/plain": [
       "  coat   weight likes_string\n",
       "1 calico 2.1    1           \n",
       "2 black  5.0    0           \n",
       "3 tabby  3.2    1           "
      ]
     },
     "metadata": {},
     "output_type": "display_data"
    }
   ],
   "source": [
    "read.csv(\"r_data\\\\feline-data.csv\")"
   ]
  },
  {
   "cell_type": "markdown",
   "metadata": {},
   "source": [
    "### What name can I assign to a variable?\n",
    "\n",
    "ou are free to assign most any letter or name to a variable as long as it follows these rules:\n",
    "\n",
    "+ does not contain spaces,\n",
    "+ starts with a letter (and not a number),\n",
    "+ contains only alphanumeric characters, underscores _, and dots .,\n",
    "+ is not a reserved word.\n",
    "You can see a list of reserved words by typing the following at the command line:"
   ]
  },
  {
   "cell_type": "code",
   "execution_count": 18,
   "metadata": {},
   "outputs": [],
   "source": [
    "?reserved"
   ]
  },
  {
   "cell_type": "markdown",
   "metadata": {},
   "source": [
    "## Core data types\n",
    "\n",
    "There are three core data types in R: numeric (both integer and double), character and logical. You can get an object’s type (also referred to as mode in R) using the `typeof()` function. Note that R also has a built-in `mode()` function that will serve the same purpose with the one exception in that it will not distinguish integers from doubles.\n",
    "\n",
    "###  Numeric\n",
    "The numeric data type is probably the simplest. It consists of numbers such as integers (e.g. whole numbers such as 1 ,-3 ,33 ,0) or doubles (e.g. numbers with a decimal point such as `0.3, 12.4, -0.04, 1.0`)."
   ]
  },
  {
   "cell_type": "code",
   "execution_count": 19,
   "metadata": {},
   "outputs": [
    {
     "data": {
      "text/html": [
       "'double'"
      ],
      "text/latex": [
       "'double'"
      ],
      "text/markdown": [
       "'double'"
      ],
      "text/plain": [
       "[1] \"double\""
      ]
     },
     "metadata": {},
     "output_type": "display_data"
    }
   ],
   "source": [
    "x <- c(1.0, -3.4, 2, 140.1)\n",
    "typeof(x)"
   ]
  },
  {
   "cell_type": "code",
   "execution_count": 20,
   "metadata": {},
   "outputs": [
    {
     "data": {
      "text/html": [
       "'integer'"
      ],
      "text/latex": [
       "'integer'"
      ],
      "text/markdown": [
       "'integer'"
      ],
      "text/plain": [
       "[1] \"integer\""
      ]
     },
     "metadata": {},
     "output_type": "display_data"
    }
   ],
   "source": [
    "x <- 4L\n",
    "typeof(x)"
   ]
  },
  {
   "cell_type": "markdown",
   "metadata": {},
   "source": [
    "### Logical\n",
    "Logical values can take on one of two values: `TRUE` or `FALSE`. These can also be represented as `1` or `0`. For example, to create a logical vector of 4 elements, you can type:"
   ]
  },
  {
   "cell_type": "code",
   "execution_count": 21,
   "metadata": {},
   "outputs": [],
   "source": [
    "x <- c(TRUE, FALSE, FALSE, TRUE)"
   ]
  },
  {
   "cell_type": "code",
   "execution_count": 22,
   "metadata": {},
   "outputs": [],
   "source": [
    "x <- as.logical(c(1,0,0,1))"
   ]
  },
  {
   "cell_type": "markdown",
   "metadata": {},
   "source": [
    "Note that in both cases, `typeof(x)` returns logical. Also note that the 1’s and 0’s in the last example are converted to TRUE’s and FALSE’s internally.\n",
    "\n",
    "### Coercing from one data type to another\n",
    "\n",
    "Data can be coerced from one type to another. For example, to coerce the following vector object from character to numeric, use the `as.double()` function."
   ]
  },
  {
   "cell_type": "code",
   "execution_count": 23,
   "metadata": {},
   "outputs": [
    {
     "data": {
      "text/html": [
       "<style>\n",
       ".list-inline {list-style: none; margin:0; padding: 0}\n",
       ".list-inline>li {display: inline-block}\n",
       ".list-inline>li:not(:last-child)::after {content: \"\\00b7\"; padding: 0 .5ex}\n",
       "</style>\n",
       "<ol class=list-inline><li>23.8</li><li>6</li><li>100.01</li><li>6</li></ol>\n"
      ],
      "text/latex": [
       "\\begin{enumerate*}\n",
       "\\item 23.8\n",
       "\\item 6\n",
       "\\item 100.01\n",
       "\\item 6\n",
       "\\end{enumerate*}\n"
      ],
      "text/markdown": [
       "1. 23.8\n",
       "2. 6\n",
       "3. 100.01\n",
       "4. 6\n",
       "\n",
       "\n"
      ],
      "text/plain": [
       "[1]  23.80   6.00 100.01   6.00"
      ]
     },
     "metadata": {},
     "output_type": "display_data"
    }
   ],
   "source": [
    "y   <- c(\"23.8\", \"6\", \"100.01\", \"6\")\n",
    "as.double(y)"
   ]
  },
  {
   "cell_type": "markdown",
   "metadata": {},
   "source": [
    "The `as.double` function forces the vector y to a double (numeric)."
   ]
  },
  {
   "cell_type": "code",
   "execution_count": 24,
   "metadata": {},
   "outputs": [
    {
     "data": {
      "text/html": [
       "<style>\n",
       ".list-inline {list-style: none; margin:0; padding: 0}\n",
       ".list-inline>li {display: inline-block}\n",
       ".list-inline>li:not(:last-child)::after {content: \"\\00b7\"; padding: 0 .5ex}\n",
       "</style>\n",
       "<ol class=list-inline><li>23</li><li>6</li><li>100</li><li>6</li></ol>\n"
      ],
      "text/latex": [
       "\\begin{enumerate*}\n",
       "\\item 23\n",
       "\\item 6\n",
       "\\item 100\n",
       "\\item 6\n",
       "\\end{enumerate*}\n"
      ],
      "text/markdown": [
       "1. 23\n",
       "2. 6\n",
       "3. 100\n",
       "4. 6\n",
       "\n",
       "\n"
      ],
      "text/plain": [
       "[1]  23   6 100   6"
      ]
     },
     "metadata": {},
     "output_type": "display_data"
    }
   ],
   "source": [
    "as.integer(y)"
   ]
  },
  {
   "cell_type": "markdown",
   "metadata": {},
   "source": [
    "There are many other coercion functions in R, a summary of some the most common ones follows:\n",
    "\n",
    "![image4](r_images\\image4.png)\n",
    "\n",
    "## Data structures\n",
    "\n",
    "Most datasets we work with consist of batches of values such as a table of temperature values or a list of survey results. These batches are stored in R in one of several data structures. These include <b>(atomic) vectors</b> and <b>data frames</b>. Other data structures not explicitly covered in this workshop include matrices and lists.\n",
    "\n",
    "![image5](r_images\\image5.png)\n",
    "\n",
    "### (Atomic) vector\n",
    "The atomic vector (or vector for short) is the simplest data structure in R which consists of an ordered set of values of the same type and or class (e.g. numeric, character, etc…). This is the data structure we have worked with thus far. You can think of a vector as a single column of values in a spreadsheet. As such, one important property of a vector is that it cannot mix data types. For example, let’s mix double, integer and character in the vector variable `x`."
   ]
  },
  {
   "cell_type": "code",
   "execution_count": 25,
   "metadata": {},
   "outputs": [],
   "source": [
    "x <- c( 1.2, 5L, \"Rt\", \"2000\")"
   ]
  },
  {
   "cell_type": "markdown",
   "metadata": {},
   "source": [
    "R does not stop us from doing this (if it did, it would have returned an error message). However, if we pass `x` to the `typeof` function, we get:"
   ]
  },
  {
   "cell_type": "code",
   "execution_count": 26,
   "metadata": {},
   "outputs": [
    {
     "data": {
      "text/html": [
       "'character'"
      ],
      "text/latex": [
       "'character'"
      ],
      "text/markdown": [
       "'character'"
      ],
      "text/plain": [
       "[1] \"character\""
      ]
     },
     "metadata": {},
     "output_type": "display_data"
    }
   ],
   "source": [
    "typeof(x)"
   ]
  },
  {
   "cell_type": "markdown",
   "metadata": {},
   "source": [
    "When data types are mixed in a vector, R will convert the element types to the highest common type following the order <b>logical < integer < double < character </b>. \n",
    "In our last example, character is the highest data type in this hierarchy thus forcing all elements in that vector to character.\n",
    "if you are interested in a range of indexed values such as index 2 through 4, use the sequence, `:`, operator."
   ]
  },
  {
   "cell_type": "code",
   "execution_count": 27,
   "metadata": {},
   "outputs": [
    {
     "data": {
      "text/html": [
       "<style>\n",
       ".list-inline {list-style: none; margin:0; padding: 0}\n",
       ".list-inline>li {display: inline-block}\n",
       ".list-inline>li:not(:last-child)::after {content: \"\\00b7\"; padding: 0 .5ex}\n",
       "</style>\n",
       "<ol class=list-inline><li>'5'</li><li>'Rt'</li><li>'2000'</li></ol>\n"
      ],
      "text/latex": [
       "\\begin{enumerate*}\n",
       "\\item '5'\n",
       "\\item 'Rt'\n",
       "\\item '2000'\n",
       "\\end{enumerate*}\n"
      ],
      "text/markdown": [
       "1. '5'\n",
       "2. 'Rt'\n",
       "3. '2000'\n",
       "\n",
       "\n"
      ],
      "text/plain": [
       "[1] \"5\"    \"Rt\"   \"2000\""
      ]
     },
     "metadata": {},
     "output_type": "display_data"
    }
   ],
   "source": [
    "x[2:4]"
   ]
  },
  {
   "cell_type": "markdown",
   "metadata": {},
   "source": [
    "### Dataframe\n",
    "A dataframe is what comes closest to our perception of a data table. You can think of a dataframe as a collection of vector elements where each vector represents a column. As such, it’s important that the vectors have the same number of elements."
   ]
  },
  {
   "cell_type": "code",
   "execution_count": 28,
   "metadata": {},
   "outputs": [
    {
     "data": {
      "text/html": [
       "<table>\n",
       "<caption>A data.frame: 3 × 3</caption>\n",
       "<thead>\n",
       "\t<tr><th scope=col>name</th><th scope=col>col1</th><th scope=col>col2</th></tr>\n",
       "\t<tr><th scope=col>&lt;chr&gt;</th><th scope=col>&lt;dbl&gt;</th><th scope=col>&lt;dbl&gt;</th></tr>\n",
       "</thead>\n",
       "<tbody>\n",
       "\t<tr><td>a1</td><td>23</td><td> 1</td></tr>\n",
       "\t<tr><td>a2</td><td> 4</td><td>45</td></tr>\n",
       "\t<tr><td>b3</td><td>12</td><td> 5</td></tr>\n",
       "</tbody>\n",
       "</table>\n"
      ],
      "text/latex": [
       "A data.frame: 3 × 3\n",
       "\\begin{tabular}{lll}\n",
       " name & col1 & col2\\\\\n",
       " <chr> & <dbl> & <dbl>\\\\\n",
       "\\hline\n",
       "\t a1 & 23 &  1\\\\\n",
       "\t a2 &  4 & 45\\\\\n",
       "\t b3 & 12 &  5\\\\\n",
       "\\end{tabular}\n"
      ],
      "text/markdown": [
       "\n",
       "A data.frame: 3 × 3\n",
       "\n",
       "| name &lt;chr&gt; | col1 &lt;dbl&gt; | col2 &lt;dbl&gt; |\n",
       "|---|---|---|\n",
       "| a1 | 23 |  1 |\n",
       "| a2 |  4 | 45 |\n",
       "| b3 | 12 |  5 |\n",
       "\n"
      ],
      "text/plain": [
       "  name col1 col2\n",
       "1 a1   23    1  \n",
       "2 a2    4   45  \n",
       "3 b3   12    5  "
      ]
     },
     "metadata": {},
     "output_type": "display_data"
    }
   ],
   "source": [
    "name <- c(\"a1\", \"a2\", \"b3\")\n",
    "col1 <- c(23, 4, 12)\n",
    "col2 <- c(1, 45, 5)\n",
    "dat  <- data.frame(name, col1, col2)\n",
    "dat"
   ]
  },
  {
   "cell_type": "markdown",
   "metadata": {},
   "source": [
    "To view each column’s data type we’ll make use of a new function: the structure, `str`, function."
   ]
  },
  {
   "cell_type": "code",
   "execution_count": 29,
   "metadata": {},
   "outputs": [
    {
     "name": "stdout",
     "output_type": "stream",
     "text": [
      "'data.frame':\t3 obs. of  3 variables:\n",
      " $ name: chr  \"a1\" \"a2\" \"b3\"\n",
      " $ col1: num  23 4 12\n",
      " $ col2: num  1 45 5\n"
     ]
    }
   ],
   "source": [
    "str(dat)"
   ]
  },
  {
   "cell_type": "markdown",
   "metadata": {},
   "source": [
    "You’ll notice that the `col1` and `col2` columns are stored as numeric (i.e. as doubles) and not as integer. There is some inconsistency in R’s characterization of data type. Here, numeric represents double whereas an integer datatype would display integer. For example:"
   ]
  },
  {
   "cell_type": "code",
   "execution_count": 30,
   "metadata": {},
   "outputs": [
    {
     "name": "stdout",
     "output_type": "stream",
     "text": [
      "'data.frame':\t3 obs. of  3 variables:\n",
      " $ name: chr  \"a1\" \"a2\" \"b3\"\n",
      " $ col1: num  23 4 12\n",
      " $ col2: int  1 45 5\n"
     ]
    }
   ],
   "source": [
    "col2 <- c(1L, 45L, 5L)\n",
    "dat  <- data.frame(name, col1, col2)\n",
    "str(dat)"
   ]
  },
  {
   "cell_type": "markdown",
   "metadata": {},
   "source": [
    "Data frames can also be constructed without needing to create separate vector objects."
   ]
  },
  {
   "cell_type": "code",
   "execution_count": 31,
   "metadata": {},
   "outputs": [
    {
     "data": {
      "text/html": [
       "<table>\n",
       "<caption>A data.frame: 3 × 3</caption>\n",
       "<thead>\n",
       "\t<tr><th scope=col>name</th><th scope=col>col1</th><th scope=col>col2</th></tr>\n",
       "\t<tr><th scope=col>&lt;chr&gt;</th><th scope=col>&lt;dbl&gt;</th><th scope=col>&lt;dbl&gt;</th></tr>\n",
       "</thead>\n",
       "<tbody>\n",
       "\t<tr><td>a1</td><td>23</td><td> 1</td></tr>\n",
       "\t<tr><td>a2</td><td> 4</td><td>45</td></tr>\n",
       "\t<tr><td>b3</td><td>12</td><td> 5</td></tr>\n",
       "</tbody>\n",
       "</table>\n"
      ],
      "text/latex": [
       "A data.frame: 3 × 3\n",
       "\\begin{tabular}{lll}\n",
       " name & col1 & col2\\\\\n",
       " <chr> & <dbl> & <dbl>\\\\\n",
       "\\hline\n",
       "\t a1 & 23 &  1\\\\\n",
       "\t a2 &  4 & 45\\\\\n",
       "\t b3 & 12 &  5\\\\\n",
       "\\end{tabular}\n"
      ],
      "text/markdown": [
       "\n",
       "A data.frame: 3 × 3\n",
       "\n",
       "| name &lt;chr&gt; | col1 &lt;dbl&gt; | col2 &lt;dbl&gt; |\n",
       "|---|---|---|\n",
       "| a1 | 23 |  1 |\n",
       "| a2 |  4 | 45 |\n",
       "| b3 | 12 |  5 |\n",
       "\n"
      ],
      "text/plain": [
       "  name col1 col2\n",
       "1 a1   23    1  \n",
       "2 a2    4   45  \n",
       "3 b3   12    5  "
      ]
     },
     "metadata": {},
     "output_type": "display_data"
    }
   ],
   "source": [
    "dat  <- data.frame(name = c(\"a1\", \"a2\", \"b3\"),\n",
    "                   col1 = c(23, 4, 12),\n",
    "                   col2 = c(1, 45, 5))\n",
    "dat"
   ]
  },
  {
   "cell_type": "markdown",
   "metadata": {},
   "source": [
    "Like a vector, elements of a data frame can be accessed by their index (aka subscripts). The first index represents the row number and the second index represents the column number. For example, to list the second row of the third column, type:"
   ]
  },
  {
   "cell_type": "code",
   "execution_count": 32,
   "metadata": {},
   "outputs": [
    {
     "data": {
      "text/html": [
       "45"
      ],
      "text/latex": [
       "45"
      ],
      "text/markdown": [
       "45"
      ],
      "text/plain": [
       "[1] 45"
      ]
     },
     "metadata": {},
     "output_type": "display_data"
    }
   ],
   "source": [
    "dat[2, 3]"
   ]
  },
  {
   "cell_type": "markdown",
   "metadata": {},
   "source": [
    "If you wish to list all rows for columns one through two, leave the first index blank:"
   ]
  },
  {
   "cell_type": "code",
   "execution_count": 33,
   "metadata": {},
   "outputs": [
    {
     "data": {
      "text/html": [
       "<table>\n",
       "<caption>A data.frame: 3 × 2</caption>\n",
       "<thead>\n",
       "\t<tr><th scope=col>name</th><th scope=col>col1</th></tr>\n",
       "\t<tr><th scope=col>&lt;chr&gt;</th><th scope=col>&lt;dbl&gt;</th></tr>\n",
       "</thead>\n",
       "<tbody>\n",
       "\t<tr><td>a1</td><td>23</td></tr>\n",
       "\t<tr><td>a2</td><td> 4</td></tr>\n",
       "\t<tr><td>b3</td><td>12</td></tr>\n",
       "</tbody>\n",
       "</table>\n"
      ],
      "text/latex": [
       "A data.frame: 3 × 2\n",
       "\\begin{tabular}{ll}\n",
       " name & col1\\\\\n",
       " <chr> & <dbl>\\\\\n",
       "\\hline\n",
       "\t a1 & 23\\\\\n",
       "\t a2 &  4\\\\\n",
       "\t b3 & 12\\\\\n",
       "\\end{tabular}\n"
      ],
      "text/markdown": [
       "\n",
       "A data.frame: 3 × 2\n",
       "\n",
       "| name &lt;chr&gt; | col1 &lt;dbl&gt; |\n",
       "|---|---|\n",
       "| a1 | 23 |\n",
       "| a2 |  4 |\n",
       "| b3 | 12 |\n",
       "\n"
      ],
      "text/plain": [
       "  name col1\n",
       "1 a1   23  \n",
       "2 a2    4  \n",
       "3 b3   12  "
      ]
     },
     "metadata": {},
     "output_type": "display_data"
    }
   ],
   "source": [
    "dat[ , 1:2]"
   ]
  },
  {
   "cell_type": "markdown",
   "metadata": {},
   "source": [
    "Or, if you wish to list the third row for all columns, leave the second index blank:"
   ]
  },
  {
   "cell_type": "code",
   "execution_count": 34,
   "metadata": {},
   "outputs": [
    {
     "data": {
      "text/html": [
       "<table>\n",
       "<caption>A data.frame: 1 × 3</caption>\n",
       "<thead>\n",
       "\t<tr><th></th><th scope=col>name</th><th scope=col>col1</th><th scope=col>col2</th></tr>\n",
       "\t<tr><th></th><th scope=col>&lt;chr&gt;</th><th scope=col>&lt;dbl&gt;</th><th scope=col>&lt;dbl&gt;</th></tr>\n",
       "</thead>\n",
       "<tbody>\n",
       "\t<tr><th scope=row>3</th><td>b3</td><td>12</td><td>5</td></tr>\n",
       "</tbody>\n",
       "</table>\n"
      ],
      "text/latex": [
       "A data.frame: 1 × 3\n",
       "\\begin{tabular}{r|lll}\n",
       "  & name & col1 & col2\\\\\n",
       "  & <chr> & <dbl> & <dbl>\\\\\n",
       "\\hline\n",
       "\t3 & b3 & 12 & 5\\\\\n",
       "\\end{tabular}\n"
      ],
      "text/markdown": [
       "\n",
       "A data.frame: 1 × 3\n",
       "\n",
       "| <!--/--> | name &lt;chr&gt; | col1 &lt;dbl&gt; | col2 &lt;dbl&gt; |\n",
       "|---|---|---|---|\n",
       "| 3 | b3 | 12 | 5 |\n",
       "\n"
      ],
      "text/plain": [
       "  name col1 col2\n",
       "3 b3   12   5   "
      ]
     },
     "metadata": {},
     "output_type": "display_data"
    }
   ],
   "source": [
    "dat[ 3 , ]"
   ]
  },
  {
   "cell_type": "markdown",
   "metadata": {},
   "source": [
    "To get the column names of a table, use the `names()` function."
   ]
  },
  {
   "cell_type": "code",
   "execution_count": 35,
   "metadata": {},
   "outputs": [
    {
     "data": {
      "text/html": [
       "<style>\n",
       ".list-inline {list-style: none; margin:0; padding: 0}\n",
       ".list-inline>li {display: inline-block}\n",
       ".list-inline>li:not(:last-child)::after {content: \"\\00b7\"; padding: 0 .5ex}\n",
       "</style>\n",
       "<ol class=list-inline><li>'name'</li><li>'col1'</li><li>'col2'</li></ol>\n"
      ],
      "text/latex": [
       "\\begin{enumerate*}\n",
       "\\item 'name'\n",
       "\\item 'col1'\n",
       "\\item 'col2'\n",
       "\\end{enumerate*}\n"
      ],
      "text/markdown": [
       "1. 'name'\n",
       "2. 'col1'\n",
       "3. 'col2'\n",
       "\n",
       "\n"
      ],
      "text/plain": [
       "[1] \"name\" \"col1\" \"col2\""
      ]
     },
     "metadata": {},
     "output_type": "display_data"
    }
   ],
   "source": [
    "names(dat)"
   ]
  },
  {
   "cell_type": "markdown",
   "metadata": {},
   "source": [
    "## R coding style guide\n",
    "\n",
    "### Spacing\n",
    "\n",
    "Spaces help improve readability. Add spaces around operators (this includes the assignment operator) and after commas.\n",
    "\n",
    "Place a space before an open parenthesis/curly brace <b>except</b> when an open parenthesis is preceded with a function name. Place a space after a closed parenthesis/curly brace.\n",
    "\n",
    "![image6](r_images\\image6.png)\n",
    "\n",
    "### Parentheses\n",
    "Use parentheses to isolate conditional statements. Do not wrap overall statements with parentheses.\n",
    "\n",
    "![image7](r_images\\image7.png)\n",
    "\n",
    "### Comments\n",
    "Comments allow the user to document parts of the code without the comments being interpreted by R as code. All comments are preceded by the `#` character."
   ]
  },
  {
   "cell_type": "code",
   "execution_count": 36,
   "metadata": {},
   "outputs": [],
   "source": [
    "# Assign three values to p\n",
    "p <- c(23, 1.2, 5)"
   ]
  },
  {
   "cell_type": "markdown",
   "metadata": {},
   "source": [
    "Comments should be used to isolate key steps in a workflow. But they should not be used to document each and every line of code (except when used in an instructional setting).\n",
    "\n",
    "An empty line should be placed before the comment but not after. A space should separate the first letter of a comment and the `#` symbol.\n",
    "\n",
    "![image8](r_images\\image8.png)"
   ]
  },
  {
   "cell_type": "markdown",
   "metadata": {},
   "source": [
    "## Reading a data file\n",
    "\n",
    "A popular (and universal) data file format is the comma separated file format known as a CSV file. To open a csv data table in R, use the `read.csv()` function. In the next example, we will load registrar’s course schedule for the Spring of 2019. But first, we will need to let our R session know where to find the data file. We’ll make use of RStudio’s interface to specify our working directory. In the menu bar, navigate to <b>Session >> Set Working Directory >> Choose Directory</b> and select the folder where you have the `SP1818.csv` file saved. Or, if you are familiar with directory structures, you can type the full path in R using the `setwd()` function as in:\n",
    "\n",
    "```python\n",
    "# On Windows ...\n",
    "setwd(\"C:/Users/ck/Workshop/Data\")\n",
    "\n",
    "# On Macs ...\n",
    "setwd(\"/Users/ck/Workshop/Data\")\n",
    "```\n",
    "\n",
    "Next, we’ll open the data file and store its contents in an object we’ll name `dat`."
   ]
  },
  {
   "cell_type": "code",
   "execution_count": 38,
   "metadata": {},
   "outputs": [],
   "source": [
    "dat <- read.csv(\"r_data/SP1819.csv\", stringsAsFactors = FALSE)"
   ]
  },
  {
   "cell_type": "markdown",
   "metadata": {},
   "source": [
    "Now, identify the data types associated with each variable (aka column)."
   ]
  },
  {
   "cell_type": "code",
   "execution_count": 39,
   "metadata": {},
   "outputs": [
    {
     "name": "stdout",
     "output_type": "stream",
     "text": [
      "'data.frame':\t717 obs. of  13 variables:\n",
      " $ Course   : chr  \"AA118\" \"AA223\" \"AA223\" \"AA231\" ...\n",
      " $ Section  : chr  \"A\" \"A\" \"A\" \"A\" ...\n",
      " $ Cr       : chr  \"2\" \"4\" \"4\" \"4\" ...\n",
      " $ Days     : chr  \"TR\" \"TR\" \"TR\" \"MW\" ...\n",
      " $ Times    : chr  \" 2:30pm- 4:00pm\" \" 8:00am- 9:30am\" \" 9:45am-10:45am\" \"11:00am-12:15pm\" ...\n",
      " $ Title    : chr  \"Dance Technique Lab: Dance Forms of the African Diaspora: Hip-hop (See TD118)\" \"Critical Race Feminisms and Tap Dance (See WG223)\" \"Critical Race Feminisms and Tap Dance (See WG223)\" \"Caribbean Cultures (See AY231)\" ...\n",
      " $ DistReq  : chr  \"\" \"A\" \"A\" \"\" ...\n",
      " $ Diversity: chr  \" \" \"U \" \"U \" \"I \" ...\n",
      " $ Room     : chr  \" \" \" \" \" \" \" \" ...\n",
      " $ Reg      : int  0 0 0 0 0 0 0 0 0 0 ...\n",
      " $ Max      : int  NA NA NA NA NA NA NA NA NA NA ...\n",
      " $ Exam     : int  NA NA NA NA NA NA NA NA NA NA ...\n",
      " $ Faculty  : chr  \"Akuchu     \" \"Thomas, S  \" \"Thomas, S  \" \"Bhimull    \" ...\n"
     ]
    }
   ],
   "source": [
    "str(dat)"
   ]
  },
  {
   "cell_type": "markdown",
   "metadata": {},
   "source": [
    "## Control Flow\n",
    "\n",
    "There are several ways you can control flow in R. For conditional statements, the most commonly used approaches are the constructs:\n",
    "\n",
    "```python\n",
    "# if\n",
    "if (condition is true) {\n",
    "  perform action\n",
    "}\n",
    "\n",
    "# if ... else\n",
    "if (condition is true) {\n",
    "  perform action\n",
    "} else {  # that is, if the condition is false,\n",
    "  perform alternative action\n",
    "}\n",
    "```\n",
    "\n",
    "Say, for example, that we want R to print a message if a variable `x` has a particular value:"
   ]
  },
  {
   "cell_type": "code",
   "execution_count": 41,
   "metadata": {},
   "outputs": [
    {
     "data": {
      "text/html": [
       "8"
      ],
      "text/latex": [
       "8"
      ],
      "text/markdown": [
       "8"
      ],
      "text/plain": [
       "[1] 8"
      ]
     },
     "metadata": {},
     "output_type": "display_data"
    }
   ],
   "source": [
    "x <- 8\n",
    "\n",
    "if (x >= 10) {\n",
    "  print(\"x is greater than or equal to 10\")\n",
    "}\n",
    "\n",
    "x"
   ]
  },
  {
   "cell_type": "markdown",
   "metadata": {},
   "source": [
    "The print statement does not appear in the console because x is not greater than 10. To print a different message for numbers less than 10, we can add an `else` statement."
   ]
  },
  {
   "cell_type": "code",
   "execution_count": 42,
   "metadata": {},
   "outputs": [
    {
     "name": "stdout",
     "output_type": "stream",
     "text": [
      "[1] \"x is less than 10\"\n"
     ]
    }
   ],
   "source": [
    "x <- 8\n",
    "\n",
    "if (x >= 10) {\n",
    "  print(\"x is greater than or equal to 10\")\n",
    "} else {\n",
    "  print(\"x is less than 10\")\n",
    "}"
   ]
  },
  {
   "cell_type": "markdown",
   "metadata": {},
   "source": [
    "You can also test multiple conditions by using `else if`."
   ]
  },
  {
   "cell_type": "code",
   "execution_count": 43,
   "metadata": {},
   "outputs": [
    {
     "name": "stdout",
     "output_type": "stream",
     "text": [
      "[1] \"x is greater than 5, but less than 10\"\n"
     ]
    }
   ],
   "source": [
    "x <- 8\n",
    "\n",
    "if (x >= 10) {\n",
    "  print(\"x is greater than or equal to 10\")\n",
    "} else if (x > 5) {\n",
    "  print(\"x is greater than 5, but less than 10\")\n",
    "} else {\n",
    "  print(\"x is less than 5\")\n",
    "}"
   ]
  },
  {
   "cell_type": "markdown",
   "metadata": {},
   "source": [
    "<b>Important</b>: when R evaluates the condition inside `if()` statements, it is looking for a logical element, i.e., `TRUE` or `FALSE`. This can cause some headaches for beginners. For example:"
   ]
  },
  {
   "cell_type": "code",
   "execution_count": 44,
   "metadata": {},
   "outputs": [
    {
     "data": {
      "text/html": [
       "'4 does not equal 3'"
      ],
      "text/latex": [
       "'4 does not equal 3'"
      ],
      "text/markdown": [
       "'4 does not equal 3'"
      ],
      "text/plain": [
       "[1] \"4 does not equal 3\""
      ]
     },
     "metadata": {},
     "output_type": "display_data"
    }
   ],
   "source": [
    "x  <-  4 == 3\n",
    "if (x) {\n",
    "  \"4 equals 3\"\n",
    "} else {\n",
    "  \"4 does not equal 3\"          \n",
    "}"
   ]
  },
  {
   "cell_type": "markdown",
   "metadata": {},
   "source": [
    "As we can see, the not equal message was printed because the vector x is `FALSE`."
   ]
  },
  {
   "cell_type": "code",
   "execution_count": 45,
   "metadata": {},
   "outputs": [
    {
     "data": {
      "text/html": [
       "FALSE"
      ],
      "text/latex": [
       "FALSE"
      ],
      "text/markdown": [
       "FALSE"
      ],
      "text/plain": [
       "[1] FALSE"
      ]
     },
     "metadata": {},
     "output_type": "display_data"
    }
   ],
   "source": [
    "x <- 4 == 3\n",
    "x"
   ]
  },
  {
   "cell_type": "markdown",
   "metadata": {},
   "source": [
    "## Repeating operations\n",
    "\n",
    "If you want to iterate over a set of values, when the order of iteration is important, and perform the same operation on each, a `for()` loop will do the job. We saw `for()` loops in the shell lessons earlier.\n",
    "This is the most flexible of looping operations, but therefore also the hardest to use correctly. In general, the advice of many `R` users would be to learn about `for()` loops, but to avoid using `for()` loops unless the order of iteration is important: i.e. the calculation at each iteration depends on the results of previous iterations. If the order of iteration is not important, then you should learn about vectorized alternatives, such as the `purr` package, as they pay off in computational efficiency.\n",
    "\n",
    "The basic structure of a `for()` loop is:\n",
    "\n",
    "```python\n",
    "for (iterator in set of values) {\n",
    "  do a thing\n",
    "}\n",
    "```\n",
    "\n",
    "For example:"
   ]
  },
  {
   "cell_type": "code",
   "execution_count": 46,
   "metadata": {},
   "outputs": [
    {
     "name": "stdout",
     "output_type": "stream",
     "text": [
      "[1] 1\n",
      "[1] 2\n",
      "[1] 3\n",
      "[1] 4\n",
      "[1] 5\n",
      "[1] 6\n",
      "[1] 7\n",
      "[1] 8\n",
      "[1] 9\n",
      "[1] 10\n"
     ]
    }
   ],
   "source": [
    "for (i in 1:10) {\n",
    "  print(i)\n",
    "}"
   ]
  },
  {
   "cell_type": "markdown",
   "metadata": {},
   "source": [
    "The `1:10` bit creates a vector on the fly; you can iterate over any other vector as well."
   ]
  },
  {
   "cell_type": "code",
   "execution_count": null,
   "metadata": {},
   "outputs": [],
   "source": []
  }
 ],
 "metadata": {
  "kernelspec": {
   "display_name": "R",
   "language": "R",
   "name": "ir"
  },
  "language_info": {
   "codemirror_mode": "r",
   "file_extension": ".r",
   "mimetype": "text/x-r-source",
   "name": "R",
   "pygments_lexer": "r",
   "version": "4.0.2"
  }
 },
 "nbformat": 4,
 "nbformat_minor": 4
}
